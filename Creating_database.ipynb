{
 "cells": [
  {
   "cell_type": "code",
   "execution_count": 2,
   "id": "14fde917",
   "metadata": {},
   "outputs": [
    {
     "name": "stdout",
     "output_type": "stream",
     "text": [
      "Enter zip code: 07306\n"
     ]
    }
   ],
   "source": [
    "import requests\n",
    "\n",
    "zip_code = input(\"Enter zip code: \")\n",
    "key = \"API_KEY\"\n",
    "url = \"https://maps.googleapis.com/maps/api/place/textsearch/json?query=Cafe+coffee+near+\" \\\n",
    "        + zip_code.replace(\" \", \"+\") + \"&key=\" + key"
   ]
  },
  {
   "cell_type": "code",
   "execution_count": 4,
   "id": "cb907f7b",
   "metadata": {},
   "outputs": [],
   "source": [
    "import urllib.request\n",
    "import json"
   ]
  },
  {
   "cell_type": "code",
   "execution_count": 6,
   "id": "57de6243",
   "metadata": {},
   "outputs": [
    {
     "name": "stdout",
     "output_type": "stream",
     "text": [
      "{'html_attributions': [], 'next_page_token': 'AUjq9jn4049BKkV6FW8SHy0lQ4X1vFhVuXCWL6iMWO7wJ5w0meEslMDtI0Lxge3-Jxkyt09QImQAEB9rnApHwdp0aIc5qpOdH5VKL16po14NY3U7Oem5vGlPqPrmAv0YLfYMKL7zvXXxojz0Gkuffy1uMKhcvbtH28DH20jlYGS1e_BnBt9knP3hd-7_5tVnG6ZotEGhxKOkSm7CLuXeN1t3hwmXX2UAQYDbZgSx4jZsjyBL2cuxDcLPRuZqHDoXYbXzvTZjTK3A2sNRHz4LDkt6ypjyTra2Q6Gm3GGdb7kKdJeCtcruzSdlAkdVwsUoP7bUZGMSNG-EsfWKNCdqa6h3m7PUCgTl-qz6zNLp2qwg22NMgBmHomDt27C8sR4rY56vRAqyLE15kxDxOBHB3mA-DPc2uFU', 'results': [{'business_status': 'OPERATIONAL', 'formatted_address': '76 Cottage St, Jersey City, NJ 07306, United States', 'geometry': {'location': {'lat': 40.7346777, 'lng': -74.0627446}, 'viewport': {'northeast': {'lat': 40.73599282989272, 'lng': -74.06139522010727}, 'southwest': {'lat': 40.73329317010727, 'lng': -74.06409487989272}}}, 'icon': 'https://maps.gstatic.com/mapfiles/place_api/icons/v1/png_71/cafe-71.png', 'icon_background_color': '#FF9E67', 'icon_mask_base_uri': 'https://maps.gstatic.com/mapfiles/place_api/icons/v2/cafe_pinlet', 'name': 'Belle Âme Cafe', 'opening_hours': {'open_now': True}, 'photos': [{'height': 4032, 'html_attributions': ['<a href=\"https://maps.google.com/maps/contrib/108893946781329120407\">A Google User</a>'], 'photo_reference': 'AUjq9jkiBcasoAYySN4EQQAPvoj60FdSfF8aEp2CcU7zebqrzNX959Na4WfRCEpuBnYlGZ3u1oMP3FiL40eVGky7ARy2XP9fxjOfIZxDYj61ccIUpW2MdFh9LkecV9MM62QiaOCT5TUrQrYY2IrB9Os5vYKiHfs5lEYkItOZkS1NeqXHyM08', 'width': 3024}], 'place_id': 'ChIJtWXaygVXwokRZQo2HpWBYNU', 'plus_code': {'compound_code': 'PWMP+VW Jersey City, New Jersey', 'global_code': '87G7PWMP+VW'}, 'rating': 4.7, 'reference': 'ChIJtWXaygVXwokRZQo2HpWBYNU', 'types': ['cafe', 'point_of_interest', 'store', 'food', 'establishment'], 'user_ratings_total': 113}, {'business_status': 'OPERATIONAL', 'formatted_address': '2800 John F. Kennedy Blvd Store C, Jersey City, NJ 07306, United States', 'geometry': {'location': {'lat': 40.7314616, 'lng': -74.0673498}, 'viewport': {'northeast': {'lat': 40.73289572989273, 'lng': -74.06608697010729}, 'southwest': {'lat': 40.73019607010728, 'lng': -74.06878662989273}}}, 'icon': 'https://maps.gstatic.com/mapfiles/place_api/icons/v1/png_71/cafe-71.png', 'icon_background_color': '#FF9E67', 'icon_mask_base_uri': 'https://maps.gstatic.com/mapfiles/place_api/icons/v2/cafe_pinlet', 'name': 'City cafe and grill', 'opening_hours': {'open_now': True}, 'photos': [{'height': 1080, 'html_attributions': ['<a href=\"https://maps.google.com/maps/contrib/108509652456581678083\">oussama Anouar</a>'], 'photo_reference': 'AUjq9jn166634hG4MOf1_uS9DIwdkQ7mvYmkR34RauN4PO2Tat27kNd8WLW579BZIyaBnE8ZedtKjyCedRBa5ooAEnyCibkAz1fvJxPxGfRDCNIfR0RMT3cpEX2yqtQfg0764mzVlYSOOCoqCv5_TjYJ1Bn5A5JcSLPkM7Is7X9r1UipSaF9', 'width': 1920}], 'place_id': 'ChIJZ2DqW3RXwokRVVCFfn4AHxs', 'plus_code': {'compound_code': 'PWJM+H3 Jersey City, New Jersey', 'global_code': '87G7PWJM+H3'}, 'rating': 5, 'reference': 'ChIJZ2DqW3RXwokRVVCFfn4AHxs', 'types': ['cafe', 'point_of_interest', 'store', 'food', 'establishment'], 'user_ratings_total': 9}, {'business_status': 'OPERATIONAL', 'formatted_address': '115 Palisade Ave, Jersey City, NJ 07306, United States', 'geometry': {'location': {'lat': 40.7331622, 'lng': -74.0514136}, 'viewport': {'northeast': {'lat': 40.73450767989272, 'lng': -74.05002802010728}, 'southwest': {'lat': 40.73180802010728, 'lng': -74.05272767989271}}}, 'icon': 'https://maps.gstatic.com/mapfiles/place_api/icons/v1/png_71/cafe-71.png', 'icon_background_color': '#FF9E67', 'icon_mask_base_uri': 'https://maps.gstatic.com/mapfiles/place_api/icons/v2/cafe_pinlet', 'name': 'Box Cafe', 'opening_hours': {'open_now': False}, 'photos': [{'height': 4032, 'html_attributions': ['<a href=\"https://maps.google.com/maps/contrib/100492056771573625802\">Matteo De Santis</a>'], 'photo_reference': 'AUjq9jlUGw_AouCS5hDSANzLorK40vIcyQj03FD-H08HlAfeWsRoMtLjddhP8btm-KPiZEkHoAqx1tH9RWebz9FVVlxL9khOCpSR_ADtPyVD6QphhR-PhP78icMmysj4iLaxAwp01hSmxp1WfzvzzVw6KCfe0y-_bKCqH6JI0h5g6795plGF', 'width': 3024}], 'place_id': 'ChIJidCMXdRXwokRmI5Hvvf6I34', 'plus_code': {'compound_code': 'PWMX+7C Jersey City, New Jersey', 'global_code': '87G7PWMX+7C'}, 'rating': 4.9, 'reference': 'ChIJidCMXdRXwokRmI5Hvvf6I34', 'types': ['cafe', 'point_of_interest', 'food', 'establishment'], 'user_ratings_total': 109}, {'business_status': 'OPERATIONAL', 'formatted_address': '97 Newkirk St, Jersey City, NJ 07306, United States', 'geometry': {'location': {'lat': 40.7290092, 'lng': -74.0634584}, 'viewport': {'northeast': {'lat': 40.73040737989272, 'lng': -74.06206857010727}, 'southwest': {'lat': 40.72770772010728, 'lng': -74.06476822989272}}}, 'icon': 'https://maps.gstatic.com/mapfiles/place_api/icons/v1/png_71/cafe-71.png', 'icon_background_color': '#FF9E67', 'icon_mask_base_uri': 'https://maps.gstatic.com/mapfiles/place_api/icons/v2/cafe_pinlet', 'name': 'CLO Coffee Co.', 'opening_hours': {'open_now': True}, 'photos': [{'height': 3025, 'html_attributions': ['<a href=\"https://maps.google.com/maps/contrib/114546222026120022842\">A Google User</a>'], 'photo_reference': 'AUjq9jk1J6U7A-Rf7U6xGGK0T_C3M4CDhte_DrtfuzOuLGYjri76An2-Ckccdq-YLMi9eEqNlTbVFeh_QZE7cA8Kv_kXGTeqRxH0cG3Y6MWI_YK96Lp0dUmdto9KHUt2rZRDxf-Q1foTdSRuGmKzuv8HU0_WJ8_AA1UTJ5G3EfBRLHShIx6h', 'width': 3024}], 'place_id': 'ChIJcWcEnHxXwokR6NuZ5IJ3-EE', 'plus_code': {'compound_code': 'PWHP+JJ Jersey City, New Jersey', 'global_code': '87G7PWHP+JJ'}, 'rating': 4.7, 'reference': 'ChIJcWcEnHxXwokR6NuZ5IJ3-EE', 'types': ['cafe', 'point_of_interest', 'store', 'food', 'establishment'], 'user_ratings_total': 90}, {'business_status': 'OPERATIONAL', 'formatted_address': '586 Newark Ave, Jersey City, NJ 07306, United States', 'geometry': {'location': {'lat': 40.7323528, 'lng': -74.05697769999999}, 'viewport': {'northeast': {'lat': 40.73366892989272, 'lng': -74.05572167010727}, 'southwest': {'lat': 40.73096927010728, 'lng': -74.05842132989272}}}, 'icon': 'https://maps.gstatic.com/mapfiles/place_api/icons/v1/png_71/cafe-71.png', 'icon_background_color': '#FF9E67', 'icon_mask_base_uri': 'https://maps.gstatic.com/mapfiles/place_api/icons/v2/cafe_pinlet', 'name': 'Cafe Peanut', 'opening_hours': {'open_now': True}, 'photos': [{'height': 704, 'html_attributions': ['<a href=\"https://maps.google.com/maps/contrib/111943764819502103923\">A Google User</a>'], 'photo_reference': 'AUjq9jnoai3scbyTUM1jbHol6_IAJLMgj1e3CE8Sf08FmVC3XwS_n4drpJnxq4Sj-YsbyrhPT2YvUYyPxLKZOcbWX1Rd0PlzKyM4zDlKBvxJJP95VyAmCPfm4tZEcPkLTUnYCvIOqbmk-ANiL-bzZZgaxETQzOXzLr3uSUde3I5DxKWY3KUm', 'width': 960}], 'place_id': 'ChIJr55J8a1XwokRRZHzUNtd-JQ', 'plus_code': {'compound_code': 'PWJV+W6 Jersey City, New Jersey', 'global_code': '87G7PWJV+W6'}, 'rating': 4.7, 'reference': 'ChIJr55J8a1XwokRRZHzUNtd-JQ', 'types': ['cafe', 'restaurant', 'point_of_interest', 'food', 'establishment'], 'user_ratings_total': 201}, {'business_status': 'OPERATIONAL', 'formatted_address': '28 Cottage St, Jersey City, NJ 07306, United States', 'geometry': {'location': {'lat': 40.7344482, 'lng': -74.06060339999999}, 'viewport': {'northeast': {'lat': 40.73572092989272, 'lng': -74.05924637010727}, 'southwest': {'lat': 40.73302127010728, 'lng': -74.06194602989272}}}, 'icon': 'https://maps.gstatic.com/mapfiles/place_api/icons/v1/png_71/cafe-71.png', 'icon_background_color': '#FF9E67', 'icon_mask_base_uri': 'https://maps.gstatic.com/mapfiles/place_api/icons/v2/cafe_pinlet', 'name': 'CLO Coffee Co.', 'opening_hours': {'open_now': False}, 'photos': [{'height': 2736, 'html_attributions': ['<a href=\"https://maps.google.com/maps/contrib/117370924592523708823\">A Google User</a>'], 'photo_reference': 'AUjq9jkTxOzy3il5QBHGd29hOExDlZMOMI8zLRztOwB6n91svJ9MdFuIJMrHm__GrGnzH6MxjrRs67wy0mP34WlG3UXcCTxZ4UqzH9SurPjdR5WE-xIv948mTeafQs8nVtxh2ZlhtHbL4fXYd78v9dWdoPFQ-kDpztOief-wyTrT8qZkeYen', 'width': 1824}], 'place_id': 'ChIJSXTXoMFXwokRIYhnpMTH2h4', 'plus_code': {'compound_code': 'PWMQ+QQ Jersey City, New Jersey', 'global_code': '87G7PWMQ+QQ'}, 'rating': 5, 'reference': 'ChIJSXTXoMFXwokRIYhnpMTH2h4', 'types': ['cafe', 'point_of_interest', 'store', 'food', 'establishment'], 'user_ratings_total': 4}, {'business_status': 'OPERATIONAL', 'formatted_address': '3 Path Plaza, Jersey City, NJ 07306, United States', 'geometry': {'location': {'lat': 40.732453, 'lng': -74.063058}, 'viewport': {'northeast': {'lat': 40.73379532989271, 'lng': -74.06194477010727}, 'southwest': {'lat': 40.73109567010727, 'lng': -74.06464442989272}}}, 'icon': 'https://maps.gstatic.com/mapfiles/place_api/icons/v1/png_71/cafe-71.png', 'icon_background_color': '#FF9E67', 'icon_mask_base_uri': 'https://maps.gstatic.com/mapfiles/place_api/icons/v2/cafe_pinlet', 'name': 'Starbucks', 'opening_hours': {'open_now': True}, 'photos': [{'height': 640, 'html_attributions': ['<a href=\"https://maps.google.com/maps/contrib/111720977864973309622\">A Google User</a>'], 'photo_reference': 'AUjq9jkFHPUy7KMSVzpeuB8urOiic-8y2ITqM-FFSjY65m9Rpv0aEDO4LioyUVACSWA-OUAhtPg1oH5wt12d5AJX4ZCXyuC6taPj982Sou6_EPpzCmZC6mGLW0HCjg0kFxE4AVq5yUniDbn2Yo6Kv-sepqdWygwez588qyNHYtfgp5AHofpd', 'width': 640}], 'place_id': 'ChIJj2xWgjFXwokRrZdnEDldATg', 'plus_code': {'compound_code': 'PWJP+XQ Jersey City, New Jersey', 'global_code': '87G7PWJP+XQ'}, 'price_level': 2, 'rating': 4.1, 'reference': 'ChIJj2xWgjFXwokRrZdnEDldATg', 'types': ['cafe', 'restaurant', 'point_of_interest', 'store', 'food', 'establishment'], 'user_ratings_total': 872}, {'business_status': 'OPERATIONAL', 'formatted_address': '230 Pavonia Ave, Jersey City, NJ 07302, United States', 'geometry': {'location': {'lat': 40.7276405, 'lng': -74.04359409999999}, 'viewport': {'northeast': {'lat': 40.72893727989272, 'lng': -74.04215967010728}, 'southwest': {'lat': 40.72623762010728, 'lng': -74.04485932989272}}}, 'icon': 'https://maps.gstatic.com/mapfiles/place_api/icons/v1/png_71/cafe-71.png', 'icon_background_color': '#FF9E67', 'icon_mask_base_uri': 'https://maps.gstatic.com/mapfiles/place_api/icons/v2/cafe_pinlet', 'name': 'O Kafe', 'opening_hours': {'open_now': True}, 'photos': [{'height': 1327, 'html_attributions': ['<a href=\"https://maps.google.com/maps/contrib/111177442332710527641\">A Google User</a>'], 'photo_reference': 'AUjq9jnCl26KM3Afuy_Nqw9SvB-_VB4FeCQJHrRWVZRuYiDUYOLQkRe6SDkZDV4G5AFMIxJOmTdAyf_7oHjskeoWGYnGbQ_7rAlrmnuxJ9yrw3Tf4fNjqVS-joCViAtXf0SlOSO5FEsls9RsZrD4KtlSvFjNU2FMzCHtU6BkN1bEGj4p1ll0', 'width': 1061}], 'place_id': 'ChIJeed7icBXwokRRqwYoAFyIjk', 'plus_code': {'compound_code': 'PXH4+3H Jersey City, New Jersey', 'global_code': '87G7PXH4+3H'}, 'rating': 4.4, 'reference': 'ChIJeed7icBXwokRRqwYoAFyIjk', 'types': ['cafe', 'bakery', 'restaurant', 'point_of_interest', 'grocery_or_supermarket', 'store', 'food', 'establishment'], 'user_ratings_total': 189}, {'business_status': 'OPERATIONAL', 'formatted_address': '25 Senate Pl #3, Jersey City, NJ 07306, United States', 'geometry': {'location': {'lat': 40.7369308, 'lng': -74.0676896}, 'viewport': {'northeast': {'lat': 40.73847517989272, 'lng': -74.06624037010727}, 'southwest': {'lat': 40.73577552010728, 'lng': -74.06894002989272}}}, 'icon': 'https://maps.gstatic.com/mapfiles/place_api/icons/v1/png_71/cafe-71.png', 'icon_background_color': '#FF9E67', 'icon_mask_base_uri': 'https://maps.gstatic.com/mapfiles/place_api/icons/v2/cafe_pinlet', 'name': 'modcup coffee co.', 'opening_hours': {'open_now': True}, 'photos': [{'height': 4032, 'html_attributions': ['<a href=\"https://maps.google.com/maps/contrib/101616613709278649029\">Katya Kameneva</a>'], 'photo_reference': 'AUjq9jlDqcEe2E-kJ2tykQLDY3XU2BXiE65-2Mccs_1nVVVywoKjTx4Bz446T9YRHShCudsVAf6dRm8lGNSSyfoTBQhUkHuvJKCrW8P6dw6GJ5zVsmootSmZdolyY8_EQptgLuaCEhOmnqJrEq51FdF3o0I3mtMdOhyuEYYapV4M49uwT6We', 'width': 3024}], 'place_id': 'ChIJR31Rmy9XwokRQL4h_RRdPs0', 'plus_code': {'compound_code': 'PWPJ+QW Jersey City, New Jersey', 'global_code': '87G7PWPJ+QW'}, 'rating': 4.6, 'reference': 'ChIJR31Rmy9XwokRQL4h_RRdPs0', 'types': ['cafe', 'point_of_interest', 'store', 'food', 'establishment'], 'user_ratings_total': 152}, {'business_status': 'OPERATIONAL', 'formatted_address': '134 Vroom St, Jersey City, NJ 07306, United States', 'geometry': {'location': {'lat': 40.7288313, 'lng': -74.06718409999999}, 'viewport': {'northeast': {'lat': 40.73022777989272, 'lng': -74.06596797010728}, 'southwest': {'lat': 40.72752812010727, 'lng': -74.06866762989272}}}, 'icon': 'https://maps.gstatic.com/mapfiles/place_api/icons/v1/png_71/cafe-71.png', 'icon_background_color': '#FF9E67', 'icon_mask_base_uri': 'https://maps.gstatic.com/mapfiles/place_api/icons/v2/cafe_pinlet', 'name': 'El Saraya Coffee shop', 'opening_hours': {'open_now': True}, 'photos': [{'height': 4032, 'html_attributions': ['<a href=\"https://maps.google.com/maps/contrib/100561180915667183997\">George Mehanna</a>'], 'photo_reference': 'AUjq9jnrp5b65G_RXxrqKwZ4SYNud_3lFKlbTrPIclqklj-0VQuiH0ajtSJET0TPGut48Odn69W-y_UVI5LFsgvCi5NI9tzd6pglZkgb3UFRupsFha_s9zl4o5jcbvfF6R_jni6wVzSvHb-zYAIpcdL_EWO5_ZZX01JGhUENWx09EXmPPBhF', 'width': 3024}], 'place_id': 'ChIJETr3Pi1XwokRFluEoTCTIBc', 'plus_code': {'compound_code': 'PWHM+G4 Jersey City, New Jersey', 'global_code': '87G7PWHM+G4'}, 'price_level': 1, 'rating': 4.1, 'reference': 'ChIJETr3Pi1XwokRFluEoTCTIBc', 'types': ['cafe', 'point_of_interest', 'food', 'establishment'], 'user_ratings_total': 57}, {'business_status': 'OPERATIONAL', 'formatted_address': 'JP juice and pan bar, 796 Newark Ave, Jersey City, NJ 07306, United States', 'geometry': {'location': {'lat': 40.7356918, 'lng': -74.064883}, 'viewport': {'northeast': {'lat': 40.73701962989272, 'lng': -74.06353777010729}, 'southwest': {'lat': 40.73431997010728, 'lng': -74.06623742989274}}}, 'icon': 'https://maps.gstatic.com/mapfiles/place_api/icons/v1/png_71/cafe-71.png', 'icon_background_color': '#FF9E67', 'icon_mask_base_uri': 'https://maps.gstatic.com/mapfiles/place_api/icons/v2/cafe_pinlet', 'name': 'JP Juice and Pan Bar', 'opening_hours': {'open_now': False}, 'photos': [{'height': 1080, 'html_attributions': ['<a href=\"https://maps.google.com/maps/contrib/104967787874885408206\">Madhukar</a>'], 'photo_reference': 'AUjq9jnKzWQK40Cl9K2SYKx0AgUm8IGyZc5HmnYx81rudvZEIsU7vHFTW0CuGtAHU3oVOQkJMwO_CeON0UKSsePuTkGn_HkbUKfIawYiy7NOrqxZx1bBAcka5X7_EyK_PubWc_aHuNDRAh1xlcV5vv2xkypz_ZMybOgWJF3zBesAhfdT7nRK', 'width': 1920}], 'place_id': 'ChIJ74ZQbxJXwokRWpH9QVifuDg', 'plus_code': {'compound_code': 'PWPP+73 Jersey City, New Jersey', 'global_code': '87G7PWPP+73'}, 'rating': 5, 'reference': 'ChIJ74ZQbxJXwokRWpH9QVifuDg', 'types': ['cafe', 'point_of_interest', 'store', 'food', 'establishment'], 'user_ratings_total': 2}, {'business_status': 'OPERATIONAL', 'formatted_address': '2881John F, John F. Kennedy Blvd, Jersey City, NJ 07306, United States', 'geometry': {'location': {'lat': 40.7317693, 'lng': -74.0644859}, 'viewport': {'northeast': {'lat': 40.73307167989272, 'lng': -74.06306652010728}, 'southwest': {'lat': 40.73037202010727, 'lng': -74.06576617989273}}}, 'icon': 'https://maps.gstatic.com/mapfiles/place_api/icons/v1/png_71/cafe-71.png', 'icon_background_color': '#FF9E67', 'icon_mask_base_uri': 'https://maps.gstatic.com/mapfiles/place_api/icons/v2/cafe_pinlet', 'name': 'Journal Square Cafe', 'opening_hours': {'open_now': False}, 'photos': [{'height': 4000, 'html_attributions': ['<a href=\"https://maps.google.com/maps/contrib/115549287290166871422\">Michael Luisi</a>'], 'photo_reference': 'AUjq9jlnyyEyQrwS9bCU5ReEkGEryc4jc3481EBxEzrsdb0wxskEG7Sd6btRFVbS7qPtyh0u5NTFQfi7Fp3D9oM6lj9JD_Vyv2AW8TjrE8k-MgqSAbaA3x1_qjQDaT8chebgMShYkk7yyLeWekQEyIYgITxfFAVT127HhMA3eqTptSDhtRpL', 'width': 3000}], 'place_id': 'ChIJEX02GzJXwokRFrpww2PbL6c', 'plus_code': {'compound_code': 'PWJP+P6 Jersey City, New Jersey', 'global_code': '87G7PWJP+P6'}, 'rating': 3.9, 'reference': 'ChIJEX02GzJXwokRFrpww2PbL6c', 'types': ['cafe', 'point_of_interest', 'food', 'establishment'], 'user_ratings_total': 139}, {'business_status': 'OPERATIONAL', 'formatted_address': '190 Monticello Ave, Jersey City, NJ 07304, United States', 'geometry': {'location': {'lat': 40.72114320000001, 'lng': -74.0700186}, 'viewport': {'northeast': {'lat': 40.72252052989272, 'lng': -74.06874122010727}, 'southwest': {'lat': 40.71982087010728, 'lng': -74.0714408798927}}}, 'icon': 'https://maps.gstatic.com/mapfiles/place_api/icons/v1/png_71/cafe-71.png', 'icon_background_color': '#FF9E67', 'icon_mask_base_uri': 'https://maps.gstatic.com/mapfiles/place_api/icons/v2/cafe_pinlet', 'name': 'Snapdragon Coffee & Social', 'opening_hours': {'open_now': True}, 'photos': [{'height': 4032, 'html_attributions': ['<a href=\"https://maps.google.com/maps/contrib/115072863311798964593\">Shaya Bodansky</a>'], 'photo_reference': 'AUjq9jn29SvlYONcD-iPDon97BQTTW2iYD8XrRQ45samV3ycD5RtFQswe4KMHOfGl0wJ68RbSKvv2DOzUJirAfHCv0GxsikA3jdOVNF1IVyV9cnQRZd00trcFHz6-YiVWXuSTM1c_kEp9a6xX21qTGjQNtUkagWwCm3j9CK8FiU0jRNKDsNP', 'width': 3024}], 'place_id': 'ChIJ_WKaffBRwokReKqSrC1-vIo', 'plus_code': {'compound_code': 'PWCH+FX Jersey City, New Jersey', 'global_code': '87G7PWCH+FX'}, 'rating': 4.8, 'reference': 'ChIJ_WKaffBRwokReKqSrC1-vIo', 'types': ['cafe', 'bakery', 'point_of_interest', 'store', 'food', 'establishment'], 'user_ratings_total': 263}, {'business_status': 'OPERATIONAL', 'formatted_address': '135 Duffield Ave, Jersey City, NJ 07306, United States', 'geometry': {'location': {'lat': 40.7424573, 'lng': -74.0751138}, 'viewport': {'northeast': {'lat': 40.74377937989272, 'lng': -74.07368077010727}, 'southwest': {'lat': 40.74107972010727, 'lng': -74.07638042989271}}}, 'icon': 'https://maps.gstatic.com/mapfiles/place_api/icons/v1/png_71/cafe-71.png', 'icon_background_color': '#FF9E67', 'icon_mask_base_uri': 'https://maps.gstatic.com/mapfiles/place_api/icons/v2/cafe_pinlet', 'name': 'One stop dessert', 'place_id': 'ChIJ53tANX1XwokReLV06a0VDjg', 'plus_code': {'compound_code': 'PWRF+XX Jersey City, New Jersey', 'global_code': '87G7PWRF+XX'}, 'rating': 5, 'reference': 'ChIJ53tANX1XwokReLV06a0VDjg', 'types': ['cafe', 'point_of_interest', 'store', 'food', 'establishment'], 'user_ratings_total': 1}, {'business_status': 'OPERATIONAL', 'formatted_address': '398 Manila Ave, Jersey City, NJ 07302, United States', 'geometry': {'location': {'lat': 40.72291209999999, 'lng': -74.0422803}, 'viewport': {'northeast': {'lat': 40.72424882989272, 'lng': -74.04100867010727}, 'southwest': {'lat': 40.72154917010727, 'lng': -74.04370832989272}}}, 'icon': 'https://maps.gstatic.com/mapfiles/place_api/icons/v1/png_71/cafe-71.png', 'icon_background_color': '#FF9E67', 'icon_mask_base_uri': 'https://maps.gstatic.com/mapfiles/place_api/icons/v2/cafe_pinlet', 'name': 'Hybrid Coffee & Kitchen', 'opening_hours': {'open_now': True}, 'photos': [{'height': 1965, 'html_attributions': ['<a href=\"https://maps.google.com/maps/contrib/105783648053273243712\">A Google User</a>'], 'photo_reference': 'AUjq9jm1WWC-B3twe2WRBVOGwtPTo9WRyQ5WbtVVjUaeTGWHr67urfhBVOzg9HBDSBOOIzug91KDaNhlyTjbFfMT_rdI4fNrxYxRFuOr3TmOEFDQrLLux84O2l1MP55LT2OLmmfSwrVy_9flmLBH0gS4EQXU8nBBsECFzIwMBd1zLmvkgJMG', 'width': 1703}], 'place_id': 'ChIJU5MEEWZRwokRE8bl3VuUrJ0', 'plus_code': {'compound_code': 'PXF5+53 Jersey City, New Jersey', 'global_code': '87G7PXF5+53'}, 'rating': 4.9, 'reference': 'ChIJU5MEEWZRwokRE8bl3VuUrJ0', 'types': ['cafe', 'bakery', 'restaurant', 'point_of_interest', 'store', 'food', 'establishment'], 'user_ratings_total': 232}, {'business_status': 'OPERATIONAL', 'formatted_address': '485 Marin Blvd, Jersey City, NJ 07302, United States', 'geometry': {'location': {'lat': 40.7268766, 'lng': -74.0403238}, 'viewport': {'northeast': {'lat': 40.72815802989272, 'lng': -74.03906187010728}, 'southwest': {'lat': 40.72545837010728, 'lng': -74.04176152989271}}}, 'icon': 'https://maps.gstatic.com/mapfiles/place_api/icons/v1/png_71/cafe-71.png', 'icon_background_color': '#FF9E67', 'icon_mask_base_uri': 'https://maps.gstatic.com/mapfiles/place_api/icons/v2/cafe_pinlet', 'name': 'Café Esmé', 'opening_hours': {'open_now': True}, 'photos': [{'height': 1908, 'html_attributions': ['<a href=\"https://maps.google.com/maps/contrib/117918636474288766823\">Pramila Garg</a>'], 'photo_reference': 'AUjq9jn4EGC-hXRcvZtAF5sJE8uvjrn8QGXr1x4v0hcWHeGx9ROXZTrPsi4ibsTkVlDX35gXURFcEskrbkwvVqpgt5rxao9hluUIumKI3synXjdrEaxC4-U4JgJDgB6JOLnf8VzRUgfTmYPsrTcNi0Ph9k7FVeL39AU4D-yJH1H20nT6eVM7', 'width': 4032}], 'place_id': 'ChIJ9_y3C7tXwokRcQNjRo2TX1c', 'plus_code': {'compound_code': 'PXG5+MP Jersey City, New Jersey', 'global_code': '87G7PXG5+MP'}, 'rating': 4.5, 'reference': 'ChIJ9_y3C7tXwokRcQNjRo2TX1c', 'types': ['cafe', 'point_of_interest', 'food', 'establishment'], 'user_ratings_total': 142}, {'business_status': 'OPERATIONAL', 'formatted_address': '1 Duncan Ave, Jersey City, NJ 07304, United States', 'geometry': {'location': {'lat': 40.7239048, 'lng': -74.0704569}, 'viewport': {'northeast': {'lat': 40.72525407989273, 'lng': -74.06904042010727}, 'southwest': {'lat': 40.72255442010728, 'lng': -74.07174007989272}}}, 'icon': 'https://maps.gstatic.com/mapfiles/place_api/icons/v1/png_71/cafe-71.png', 'icon_background_color': '#FF9E67', 'icon_mask_base_uri': 'https://maps.gstatic.com/mapfiles/place_api/icons/v2/cafe_pinlet', 'name': 'Crema', 'opening_hours': {'open_now': True}, 'photos': [{'height': 1198, 'html_attributions': ['<a href=\"https://maps.google.com/maps/contrib/107334931203907572462\">A Google User</a>'], 'photo_reference': 'AUjq9jmF2UVmi7TQN7DQyt5L2H9rv0jXq3mXV88WuhMcLFQnsLb4KaZHAryoXF10l2T8mFDP9u-IYrGVKOfPYGtuCz6sJJC07K4U1vyTenfdhBirm5AYU0CYrRJ0l-b6mp4WUv9d_RfMrVxkgyhgNITr_kArzwYoNPhgCHcANSpk2m9oH-bW', 'width': 1198}], 'place_id': 'ChIJXUHm8dNQwokRv2qjE0wO2aY', 'plus_code': {'compound_code': 'PWFH+HR Jersey City, New Jersey', 'global_code': '87G7PWFH+HR'}, 'price_level': 1, 'rating': 4.8, 'reference': 'ChIJXUHm8dNQwokRv2qjE0wO2aY', 'types': ['cafe', 'point_of_interest', 'store', 'food', 'establishment'], 'user_ratings_total': 234}, {'business_status': 'OPERATIONAL', 'formatted_address': '581 Jersey Ave, Jersey City, NJ 07302, United States', 'geometry': {'location': {'lat': 40.7235553, 'lng': -74.0458964}, 'viewport': {'northeast': {'lat': 40.72489417989272, 'lng': -74.04448557010727}, 'southwest': {'lat': 40.72219452010727, 'lng': -74.04718522989272}}}, 'icon': 'https://maps.gstatic.com/mapfiles/place_api/icons/v1/png_71/cafe-71.png', 'icon_background_color': '#FF9E67', 'icon_mask_base_uri': 'https://maps.gstatic.com/mapfiles/place_api/icons/v2/cafe_pinlet', 'name': 'Dames Coffee Espresso Bar', 'opening_hours': {'open_now': True}, 'photos': [{'height': 3024, 'html_attributions': ['<a href=\"https://maps.google.com/maps/contrib/105258683496098703247\">suvrats</a>'], 'photo_reference': 'AUjq9jl5LjICmy2XR_UD-hkoI31W9YfZlLkGe3_3bvteo8kGVPVVHvrM7tfyk0txdnPaGezEUEGFsA_kq6J2iwotmg2VkpkmtSHer7j4qRKm4ZJiT-1zjk8xk5hBAm9S14Q97FJzy9qFzAxDTOqiIabqKPxiKJdoEkP6ZW1J5wkv4mWYNNA2', 'width': 4032}], 'place_id': 'ChIJQdhEObNQwokRDdA5SlV137g', 'plus_code': {'compound_code': 'PXF3+CJ Jersey City, New Jersey', 'global_code': '87G7PXF3+CJ'}, 'price_level': 2, 'rating': 4.7, 'reference': 'ChIJQdhEObNQwokRDdA5SlV137g', 'types': ['cafe', 'point_of_interest', 'store', 'food', 'establishment'], 'user_ratings_total': 304}, {'business_status': 'OPERATIONAL', 'formatted_address': 'Lobby, 56 Beacon Way, Jersey City, NJ 07304, United States', 'geometry': {'location': {'lat': 40.7214199, 'lng': -74.0639307}, 'viewport': {'northeast': {'lat': 40.72288187989272, 'lng': -74.06266882010729}, 'southwest': {'lat': 40.72018222010727, 'lng': -74.06536847989273}}}, 'icon': 'https://maps.gstatic.com/mapfiles/place_api/icons/v1/png_71/cafe-71.png', 'icon_background_color': '#FF9E67', 'icon_mask_base_uri': 'https://maps.gstatic.com/mapfiles/place_api/icons/v2/cafe_pinlet', 'name': 'Bleu Coffee', 'opening_hours': {'open_now': True}, 'photos': [{'height': 4032, 'html_attributions': ['<a href=\"https://maps.google.com/maps/contrib/115290120050755214524\">A Google User</a>'], 'photo_reference': 'AUjq9jkNQBpQbakSEn7Wzc6LRe59zdAlMnDe268fm3P4Sc9Y-GqQdUHhwQJhFGheC2GC4UxL7OrUYInEeiDhw_ymSq8JWPZPHJT9wzFS95j_OxKFjLTPJjRBvqnrkJMgPeLlG3L_hX_9SMROGb57blptKIQT-pOy2Te_ZUvPvmfVnYIhbYHW', 'width': 3024}], 'place_id': 'ChIJd83z3CJZwokRY3MfmCGkSyU', 'plus_code': {'compound_code': 'PWCP+HC Jersey City, New Jersey', 'global_code': '87G7PWCP+HC'}, 'rating': 5, 'reference': 'ChIJd83z3CJZwokRY3MfmCGkSyU', 'types': ['cafe', 'point_of_interest', 'store', 'food', 'establishment'], 'user_ratings_total': 150}, {'business_status': 'OPERATIONAL', 'formatted_address': '231 8th St, Jersey City, NJ 07302, United States', 'geometry': {'location': {'lat': 40.7266729, 'lng': -74.0437238}, 'viewport': {'northeast': {'lat': 40.72797547989271, 'lng': -74.04229362010729}, 'southwest': {'lat': 40.72527582010727, 'lng': -74.04499327989272}}}, 'icon': 'https://maps.gstatic.com/mapfiles/place_api/icons/v1/png_71/restaurant-71.png', 'icon_background_color': '#FF9E67', 'icon_mask_base_uri': 'https://maps.gstatic.com/mapfiles/place_api/icons/v2/restaurant_pinlet', 'name': 'Basic Coffee', 'opening_hours': {'open_now': True}, 'photos': [{'height': 4032, 'html_attributions': ['<a href=\"https://maps.google.com/maps/contrib/107983260167481526943\">Erin Carrather</a>'], 'photo_reference': 'AUjq9jlph7iO7mBp3sLe3iYs-nm53Q91jRsmMWiiHoYCZR5ym3p8Ew67EHftyhongndds0cjZ6_lqawoFoIAwrQQiCvIBwybKO55PGR4OzIJJAlCXUoWemsxMFvVZmc_1SYd3OJIec-V7e8lMGLSgTG7E3o6Ve766BtAQmAm87Zl7umFoE7E', 'width': 3024}], 'place_id': 'ChIJf545CE1XwokRkowTnpTtDUQ', 'plus_code': {'compound_code': 'PXG4+MG Jersey City, New Jersey', 'global_code': '87G7PXG4+MG'}, 'price_level': 1, 'rating': 4.1, 'reference': 'ChIJf545CE1XwokRkowTnpTtDUQ', 'types': ['cafe', 'restaurant', 'point_of_interest', 'store', 'food', 'establishment'], 'user_ratings_total': 160}], 'status': 'OK'}\n"
     ]
    }
   ],
   "source": [
    "web_data = urllib.request.urlopen(url)\n",
    "data = web_data.read()\n",
    "encoding = web_data.info().get_content_charset('utf-8')\n",
    "print(json.loads(data.decode(encoding)))"
   ]
  },
  {
   "cell_type": "code",
   "execution_count": 11,
   "id": "7b38c264",
   "metadata": {},
   "outputs": [],
   "source": [
    "required_data=json.loads(data.decode(encoding))['results']"
   ]
  },
  {
   "cell_type": "code",
   "execution_count": 20,
   "id": "11ec8f90",
   "metadata": {},
   "outputs": [
    {
     "data": {
      "text/plain": [
       "{'business_status': 'OPERATIONAL',\n",
       " 'formatted_address': '190 Monticello Ave, Jersey City, NJ 07304, United States',\n",
       " 'geometry': {'location': {'lat': 40.72114320000001, 'lng': -74.0700186},\n",
       "  'viewport': {'northeast': {'lat': 40.72252052989272,\n",
       "    'lng': -74.06874122010727},\n",
       "   'southwest': {'lat': 40.71982087010728, 'lng': -74.0714408798927}}},\n",
       " 'icon': 'https://maps.gstatic.com/mapfiles/place_api/icons/v1/png_71/cafe-71.png',\n",
       " 'icon_background_color': '#FF9E67',\n",
       " 'icon_mask_base_uri': 'https://maps.gstatic.com/mapfiles/place_api/icons/v2/cafe_pinlet',\n",
       " 'name': 'Snapdragon Coffee & Social',\n",
       " 'opening_hours': {'open_now': True},\n",
       " 'photos': [{'height': 4032,\n",
       "   'html_attributions': ['<a href=\"https://maps.google.com/maps/contrib/115072863311798964593\">Shaya Bodansky</a>'],\n",
       "   'photo_reference': 'AUjq9jn29SvlYONcD-iPDon97BQTTW2iYD8XrRQ45samV3ycD5RtFQswe4KMHOfGl0wJ68RbSKvv2DOzUJirAfHCv0GxsikA3jdOVNF1IVyV9cnQRZd00trcFHz6-YiVWXuSTM1c_kEp9a6xX21qTGjQNtUkagWwCm3j9CK8FiU0jRNKDsNP',\n",
       "   'width': 3024}],\n",
       " 'place_id': 'ChIJ_WKaffBRwokReKqSrC1-vIo',\n",
       " 'plus_code': {'compound_code': 'PWCH+FX Jersey City, New Jersey',\n",
       "  'global_code': '87G7PWCH+FX'},\n",
       " 'rating': 4.8,\n",
       " 'reference': 'ChIJ_WKaffBRwokReKqSrC1-vIo',\n",
       " 'types': ['cafe',\n",
       "  'bakery',\n",
       "  'point_of_interest',\n",
       "  'store',\n",
       "  'food',\n",
       "  'establishment'],\n",
       " 'user_ratings_total': 263}"
      ]
     },
     "execution_count": 20,
     "metadata": {},
     "output_type": "execute_result"
    }
   ],
   "source": [
    "required_data[12]"
   ]
  },
  {
   "cell_type": "code",
   "execution_count": 22,
   "id": "9beb11ed",
   "metadata": {},
   "outputs": [
    {
     "name": "stdout",
     "output_type": "stream",
     "text": [
      "76 Cottage St, Jersey City, NJ 07306, United States\n",
      "2800 John F. Kennedy Blvd Store C, Jersey City, NJ 07306, United States\n",
      "115 Palisade Ave, Jersey City, NJ 07306, United States\n",
      "97 Newkirk St, Jersey City, NJ 07306, United States\n",
      "586 Newark Ave, Jersey City, NJ 07306, United States\n",
      "28 Cottage St, Jersey City, NJ 07306, United States\n",
      "3 Path Plaza, Jersey City, NJ 07306, United States\n",
      "230 Pavonia Ave, Jersey City, NJ 07302, United States\n",
      "25 Senate Pl #3, Jersey City, NJ 07306, United States\n",
      "134 Vroom St, Jersey City, NJ 07306, United States\n",
      "JP juice and pan bar, 796 Newark Ave, Jersey City, NJ 07306, United States\n",
      "2881John F, John F. Kennedy Blvd, Jersey City, NJ 07306, United States\n",
      "190 Monticello Ave, Jersey City, NJ 07304, United States\n",
      "135 Duffield Ave, Jersey City, NJ 07306, United States\n",
      "398 Manila Ave, Jersey City, NJ 07302, United States\n",
      "485 Marin Blvd, Jersey City, NJ 07302, United States\n",
      "1 Duncan Ave, Jersey City, NJ 07304, United States\n",
      "581 Jersey Ave, Jersey City, NJ 07302, United States\n",
      "Lobby, 56 Beacon Way, Jersey City, NJ 07304, United States\n",
      "231 8th St, Jersey City, NJ 07302, United States\n"
     ]
    }
   ],
   "source": [
    "for cafes in required_data:\n",
    "#     print(cafes['name'])\n",
    "#     print(cafes['geometry']['location'])\n",
    "    print(cafes['formatted_address'])"
   ]
  },
  {
   "cell_type": "code",
   "execution_count": 30,
   "id": "a0e8d5c7",
   "metadata": {},
   "outputs": [
    {
     "data": {
      "text/plain": [
       "'76 Cottage St, Jersey City, NJ 07306, United States'"
      ]
     },
     "execution_count": 30,
     "metadata": {},
     "output_type": "execute_result"
    }
   ],
   "source": [
    "required_data[0]['formatted_address']"
   ]
  },
  {
   "cell_type": "code",
   "execution_count": null,
   "id": "f47751b5",
   "metadata": {},
   "outputs": [],
   "source": []
  },
  {
   "cell_type": "code",
   "execution_count": null,
   "id": "ddfe1d83",
   "metadata": {},
   "outputs": [],
   "source": []
  },
  {
   "cell_type": "code",
   "execution_count": null,
   "id": "15002fa2",
   "metadata": {},
   "outputs": [],
   "source": []
  }
 ],
 "metadata": {
  "kernelspec": {
   "display_name": "Python 3",
   "language": "python",
   "name": "python3"
  },
  "language_info": {
   "codemirror_mode": {
    "name": "ipython",
    "version": 3
   },
   "file_extension": ".py",
   "mimetype": "text/x-python",
   "name": "python",
   "nbconvert_exporter": "python",
   "pygments_lexer": "ipython3",
   "version": "3.9.6 (default, Oct 18 2022, 12:41:40) \n[Clang 14.0.0 (clang-1400.0.29.202)]"
  },
  "vscode": {
   "interpreter": {
    "hash": "31f2aee4e71d21fbe5cf8b01ff0e069b9275f58929596ceb00d14d90e3e16cd6"
   }
  }
 },
 "nbformat": 4,
 "nbformat_minor": 5
}
